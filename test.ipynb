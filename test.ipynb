{
 "cells": [
  {
   "cell_type": "code",
   "execution_count": 3,
   "metadata": {},
   "outputs": [
    {
     "name": "stdout",
     "output_type": "stream",
     "text": [
      "https://raw.githubusercontent.com/dosm-malaysia/data-open/main/datasets/census/census_district.csv\n"
     ]
    }
   ],
   "source": [
    "import pandas as pd\n",
    "import matplotlib.pyplot as plt\n",
    "from datetime import date,datetime,timedelta\n",
    "from constants import KAWASANKU_CENSUS_DISTRICT\n",
    "from helper import telegram_image\n",
    "\n",
    "from constants_secret import TOKEN_CHANNEL_AKSARA\n",
    "\n",
    "from helper import download_csv, telegram_msg\n"
   ]
  },
  {
   "cell_type": "code",
   "execution_count": 9,
   "metadata": {},
   "outputs": [
    {
     "data": {
      "image/png": "[encoded data removed]",
      "text/plain": [
       "<Figure size 432x288 with 1 Axes>"
      ]
     },
     "metadata": {
      "needs_background": "light"
     },
     "output_type": "display_data"
    }
   ],
   "source": [
    "import pandas as pd\n",
    "\n",
    "\n",
    "# take data\n",
    "df = pd.read_csv('data/census_district.csv', usecols=['state','year','population_total'])\n",
    " \n",
    "\n",
    "df = df.groupby('year').sum().reset_index()\n",
    "df.columns = ['year','population']\n",
    "df.population = df.population.astype(int)\n",
    "\n",
    "fig, ax = plt.subplots()\n",
    "df.plot(x ='year', y=['population'], kind=\"bar\", ax=ax)\n",
    "plt.savefig('charts/census_trend.png')\n",
    "\n",
    "# send chart\n",
    "telegram_image(src='charts/census_trend.png',\n",
    "               caption='Census District',\n",
    "               conf=TOKEN_CHANNEL_AKSARA)"
   ]
  },
  {
   "cell_type": "code",
   "execution_count": null,
   "metadata": {},
   "outputs": [],
   "source": []
  },
  {
   "cell_type": "code",
   "execution_count": 5,
   "metadata": {},
   "outputs": [
    {
     "ename": "TypeError",
     "evalue": "object of type 'numpy.float32' has no len()",
     "output_type": "error",
     "traceback": [
      "\u001b[1;31m---------------------------------------------------------------------------\u001b[0m",
      "\u001b[1;31mTypeError\u001b[0m                                 Traceback (most recent call last)",
      "\u001b[1;32mc:\\Users\\User\\git-syafiqah\\kawasanku_data\\test.ipynb Cell 4\u001b[0m in \u001b[0;36m<cell line: 8>\u001b[1;34m()\u001b[0m\n\u001b[0;32m      <a href='vscode-notebook-cell:/c%3A/Users/User/git-syafiqah/kawasanku_data/test.ipynb#W3sZmlsZQ%3D%3D?line=4'>5</a>\u001b[0m explode \u001b[39m=\u001b[39m (\u001b[39m0\u001b[39m, \u001b[39m0.1\u001b[39m, \u001b[39m0\u001b[39m, \u001b[39m0\u001b[39m)  \u001b[39m# only \"explode\" the 2nd slice (i.e. 'Hogs')\u001b[39;00m\n\u001b[0;32m      <a href='vscode-notebook-cell:/c%3A/Users/User/git-syafiqah/kawasanku_data/test.ipynb#W3sZmlsZQ%3D%3D?line=6'>7</a>\u001b[0m fig1, ax1 \u001b[39m=\u001b[39m plt\u001b[39m.\u001b[39msubplots()\n\u001b[1;32m----> <a href='vscode-notebook-cell:/c%3A/Users/User/git-syafiqah/kawasanku_data/test.ipynb#W3sZmlsZQ%3D%3D?line=7'>8</a>\u001b[0m ax1\u001b[39m.\u001b[39;49mpie(sizes, explode\u001b[39m=\u001b[39;49mexplode, labels\u001b[39m=\u001b[39;49mlabels, autopct\u001b[39m=\u001b[39;49m\u001b[39m'\u001b[39;49m\u001b[39m%1.1f\u001b[39;49;00m\u001b[39m%%\u001b[39;49;00m\u001b[39m'\u001b[39;49m,\n\u001b[0;32m      <a href='vscode-notebook-cell:/c%3A/Users/User/git-syafiqah/kawasanku_data/test.ipynb#W3sZmlsZQ%3D%3D?line=8'>9</a>\u001b[0m         shadow\u001b[39m=\u001b[39;49m\u001b[39mTrue\u001b[39;49;00m, startangle\u001b[39m=\u001b[39;49m\u001b[39m90\u001b[39;49m)\n\u001b[0;32m     <a href='vscode-notebook-cell:/c%3A/Users/User/git-syafiqah/kawasanku_data/test.ipynb#W3sZmlsZQ%3D%3D?line=9'>10</a>\u001b[0m ax1\u001b[39m.\u001b[39maxis(\u001b[39m'\u001b[39m\u001b[39mequal\u001b[39m\u001b[39m'\u001b[39m)  \u001b[39m# Equal aspect ratio ensures that pie is drawn as a circle.\u001b[39;00m\n\u001b[0;32m     <a href='vscode-notebook-cell:/c%3A/Users/User/git-syafiqah/kawasanku_data/test.ipynb#W3sZmlsZQ%3D%3D?line=11'>12</a>\u001b[0m plt\u001b[39m.\u001b[39mshow()\n",
      "File \u001b[1;32mc:\\Users\\User\\anaconda3\\lib\\site-packages\\matplotlib\\__init__.py:1412\u001b[0m, in \u001b[0;36m_preprocess_data.<locals>.inner\u001b[1;34m(ax, data, *args, **kwargs)\u001b[0m\n\u001b[0;32m   1409\u001b[0m \u001b[39m@functools\u001b[39m\u001b[39m.\u001b[39mwraps(func)\n\u001b[0;32m   1410\u001b[0m \u001b[39mdef\u001b[39;00m \u001b[39minner\u001b[39m(ax, \u001b[39m*\u001b[39margs, data\u001b[39m=\u001b[39m\u001b[39mNone\u001b[39;00m, \u001b[39m*\u001b[39m\u001b[39m*\u001b[39mkwargs):\n\u001b[0;32m   1411\u001b[0m     \u001b[39mif\u001b[39;00m data \u001b[39mis\u001b[39;00m \u001b[39mNone\u001b[39;00m:\n\u001b[1;32m-> 1412\u001b[0m         \u001b[39mreturn\u001b[39;00m func(ax, \u001b[39m*\u001b[39m\u001b[39mmap\u001b[39m(sanitize_sequence, args), \u001b[39m*\u001b[39m\u001b[39m*\u001b[39mkwargs)\n\u001b[0;32m   1414\u001b[0m     bound \u001b[39m=\u001b[39m new_sig\u001b[39m.\u001b[39mbind(ax, \u001b[39m*\u001b[39margs, \u001b[39m*\u001b[39m\u001b[39m*\u001b[39mkwargs)\n\u001b[0;32m   1415\u001b[0m     auto_label \u001b[39m=\u001b[39m (bound\u001b[39m.\u001b[39marguments\u001b[39m.\u001b[39mget(label_namer)\n\u001b[0;32m   1416\u001b[0m                   \u001b[39mor\u001b[39;00m bound\u001b[39m.\u001b[39mkwargs\u001b[39m.\u001b[39mget(label_namer))\n",
      "File \u001b[1;32mc:\\Users\\User\\anaconda3\\lib\\site-packages\\matplotlib\\axes\\_axes.py:3059\u001b[0m, in \u001b[0;36mAxes.pie\u001b[1;34m(self, x, explode, labels, colors, autopct, pctdistance, shadow, labeldistance, startangle, radius, counterclock, wedgeprops, textprops, center, frame, rotatelabels, normalize)\u001b[0m\n\u001b[0;32m   3057\u001b[0m \u001b[39mif\u001b[39;00m explode \u001b[39mis\u001b[39;00m \u001b[39mNone\u001b[39;00m:\n\u001b[0;32m   3058\u001b[0m     explode \u001b[39m=\u001b[39m [\u001b[39m0\u001b[39m] \u001b[39m*\u001b[39m \u001b[39mlen\u001b[39m(x)\n\u001b[1;32m-> 3059\u001b[0m \u001b[39mif\u001b[39;00m \u001b[39mlen\u001b[39;49m(x) \u001b[39m!=\u001b[39m \u001b[39mlen\u001b[39m(labels):\n\u001b[0;32m   3060\u001b[0m     \u001b[39mraise\u001b[39;00m \u001b[39mValueError\u001b[39;00m(\u001b[39m\"\u001b[39m\u001b[39m'\u001b[39m\u001b[39mlabel\u001b[39m\u001b[39m'\u001b[39m\u001b[39m must be of length \u001b[39m\u001b[39m'\u001b[39m\u001b[39mx\u001b[39m\u001b[39m'\u001b[39m\u001b[39m\"\u001b[39m)\n\u001b[0;32m   3061\u001b[0m \u001b[39mif\u001b[39;00m \u001b[39mlen\u001b[39m(x) \u001b[39m!=\u001b[39m \u001b[39mlen\u001b[39m(explode):\n",
      "\u001b[1;31mTypeError\u001b[0m: object of type 'numpy.float32' has no len()"
     ]
    },
    {
     "data": {
      "image/png": "[encoded data removed]",
      "text/plain": [
       "<Figure size 432x288 with 1 Axes>"
      ]
     },
     "metadata": {
      "needs_background": "light"
     },
     "output_type": "display_data"
    }
   ],
   "source": [
    "df = pd.read_csv('data/census_district.csv', usecols=['state','year','population_total'])\n",
    "# Pie chart, where the slices will be ordered and plotted counter-clockwise:\n",
    "labels = df.groupby('state').count()\n",
    "sizes = df['population_total'].sum()\n",
    "explode = (0, 0.1, 0, 0)  # only \"explode\" the 2nd slice (i.e. 'Hogs')\n",
    "\n",
    "fig1, ax1 = plt.subplots()\n",
    "ax1.pie(sizes, explode=explode, labels=labels, autopct='%1.1f%%',\n",
    "        shadow=True, startangle=90)\n",
    "ax1.axis('equal')  # Equal aspect ratio ensures that pie is drawn as a circle.\n",
    "\n",
    "df = df.groupby('year').sum().reset_index()\n",
    "df.columns = ['year','population']\n",
    "df.population = df.population.astype(int)\n",
    "\n",
    "fig, ax = plt.subplots()\n",
    "df.plot(x ='year', y=['population'], kind=\"bar\", ax=ax)\n",
    "plt.show()"
   ]
  }
 ],
 "metadata": {
  "kernelspec": {
   "display_name": "Python 3.9.12 ('base')",
   "language": "python",
   "name": "python3"
  },
  "language_info": {
   "codemirror_mode": {
    "name": "ipython",
    "version": 3
   },
   "file_extension": ".py",
   "mimetype": "text/x-python",
   "name": "python",
   "nbconvert_exporter": "python",
   "pygments_lexer": "ipython3",
   "version": "3.9.12"
  },
  "orig_nbformat": 4,
  "vscode": {
   "interpreter": {
    "hash": "f08154012ddadd8e950e6e9e035c7a7b32c136e7647e9b7c77e02eb723a8bedb"
   }
  }
 },
 "nbformat": 4,
 "nbformat_minor": 2
}
